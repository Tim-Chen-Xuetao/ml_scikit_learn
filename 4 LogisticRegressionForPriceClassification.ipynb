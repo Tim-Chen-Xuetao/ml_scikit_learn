{
 "cells": [
  {
   "cell_type": "code",
   "execution_count": 1,
   "id": "a5299fe5",
   "metadata": {},
   "outputs": [],
   "source": [
    "import pandas as pd\n",
    "import matplotlib.pyplot as plt"
   ]
  },
  {
   "cell_type": "code",
   "execution_count": 2,
   "id": "bc30e228",
   "metadata": {},
   "outputs": [],
   "source": [
    "housing_data = pd.read_csv('datasets/housing.csv')"
   ]
  },
  {
   "cell_type": "code",
   "execution_count": 3,
   "id": "c62a4488",
   "metadata": {},
   "outputs": [],
   "source": [
    "housing_data = housing_data.dropna()"
   ]
  },
  {
   "cell_type": "code",
   "execution_count": 4,
   "id": "d1071574",
   "metadata": {},
   "outputs": [],
   "source": [
    "housing_data = housing_data.drop(housing_data.loc[housing_data['median_house_value'] == 500001].index)"
   ]
  },
  {
   "cell_type": "code",
   "execution_count": 5,
   "id": "91316686",
   "metadata": {},
   "outputs": [
    {
     "data": {
      "text/plain": [
       "array(['NEAR BAY', '<1H OCEAN', 'INLAND', 'NEAR OCEAN', 'ISLAND'],\n",
       "      dtype=object)"
      ]
     },
     "execution_count": 5,
     "metadata": {},
     "output_type": "execute_result"
    }
   ],
   "source": [
    "housing_data['ocean_proximity'].unique()"
   ]
  },
  {
   "cell_type": "code",
   "execution_count": 6,
   "id": "43f35974",
   "metadata": {},
   "outputs": [],
   "source": [
    "housing_data = pd.get_dummies(housing_data, columns=['ocean_proximity'])"
   ]
  },
  {
   "cell_type": "code",
   "execution_count": 7,
   "id": "df114e16",
   "metadata": {},
   "outputs": [
    {
     "data": {
      "text/plain": [
       "(19475, 14)"
      ]
     },
     "execution_count": 7,
     "metadata": {},
     "output_type": "execute_result"
    }
   ],
   "source": [
    "housing_data.shape"
   ]
  },
  {
   "cell_type": "code",
   "execution_count": 8,
   "id": "ce781137",
   "metadata": {},
   "outputs": [
    {
     "data": {
      "text/html": [
       "<div>\n",
       "<style scoped>\n",
       "    .dataframe tbody tr th:only-of-type {\n",
       "        vertical-align: middle;\n",
       "    }\n",
       "\n",
       "    .dataframe tbody tr th {\n",
       "        vertical-align: top;\n",
       "    }\n",
       "\n",
       "    .dataframe thead th {\n",
       "        text-align: right;\n",
       "    }\n",
       "</style>\n",
       "<table border=\"1\" class=\"dataframe\">\n",
       "  <thead>\n",
       "    <tr style=\"text-align: right;\">\n",
       "      <th></th>\n",
       "      <th>longitude</th>\n",
       "      <th>latitude</th>\n",
       "      <th>housing_median_age</th>\n",
       "      <th>total_rooms</th>\n",
       "      <th>total_bedrooms</th>\n",
       "      <th>population</th>\n",
       "      <th>households</th>\n",
       "      <th>median_income</th>\n",
       "      <th>median_house_value</th>\n",
       "      <th>ocean_proximity_&lt;1H OCEAN</th>\n",
       "      <th>ocean_proximity_INLAND</th>\n",
       "      <th>ocean_proximity_ISLAND</th>\n",
       "      <th>ocean_proximity_NEAR BAY</th>\n",
       "      <th>ocean_proximity_NEAR OCEAN</th>\n",
       "    </tr>\n",
       "  </thead>\n",
       "  <tbody>\n",
       "    <tr>\n",
       "      <th>17801</th>\n",
       "      <td>-121.79</td>\n",
       "      <td>37.38</td>\n",
       "      <td>22.0</td>\n",
       "      <td>3650.0</td>\n",
       "      <td>527.0</td>\n",
       "      <td>1637.0</td>\n",
       "      <td>520.0</td>\n",
       "      <td>5.3774</td>\n",
       "      <td>325600.0</td>\n",
       "      <td>1</td>\n",
       "      <td>0</td>\n",
       "      <td>0</td>\n",
       "      <td>0</td>\n",
       "      <td>0</td>\n",
       "    </tr>\n",
       "    <tr>\n",
       "      <th>10303</th>\n",
       "      <td>-117.79</td>\n",
       "      <td>33.88</td>\n",
       "      <td>17.0</td>\n",
       "      <td>8562.0</td>\n",
       "      <td>1351.0</td>\n",
       "      <td>3822.0</td>\n",
       "      <td>1316.0</td>\n",
       "      <td>6.0829</td>\n",
       "      <td>252600.0</td>\n",
       "      <td>1</td>\n",
       "      <td>0</td>\n",
       "      <td>0</td>\n",
       "      <td>0</td>\n",
       "      <td>0</td>\n",
       "    </tr>\n",
       "    <tr>\n",
       "      <th>5956</th>\n",
       "      <td>-117.87</td>\n",
       "      <td>34.13</td>\n",
       "      <td>32.0</td>\n",
       "      <td>1741.0</td>\n",
       "      <td>373.0</td>\n",
       "      <td>872.0</td>\n",
       "      <td>333.0</td>\n",
       "      <td>3.4219</td>\n",
       "      <td>194500.0</td>\n",
       "      <td>1</td>\n",
       "      <td>0</td>\n",
       "      <td>0</td>\n",
       "      <td>0</td>\n",
       "      <td>0</td>\n",
       "    </tr>\n",
       "    <tr>\n",
       "      <th>1377</th>\n",
       "      <td>-122.09</td>\n",
       "      <td>38.02</td>\n",
       "      <td>37.0</td>\n",
       "      <td>1742.0</td>\n",
       "      <td>339.0</td>\n",
       "      <td>1128.0</td>\n",
       "      <td>345.0</td>\n",
       "      <td>3.8824</td>\n",
       "      <td>113700.0</td>\n",
       "      <td>0</td>\n",
       "      <td>0</td>\n",
       "      <td>0</td>\n",
       "      <td>1</td>\n",
       "      <td>0</td>\n",
       "    </tr>\n",
       "    <tr>\n",
       "      <th>15429</th>\n",
       "      <td>-117.24</td>\n",
       "      <td>33.21</td>\n",
       "      <td>18.0</td>\n",
       "      <td>1846.0</td>\n",
       "      <td>419.0</td>\n",
       "      <td>1581.0</td>\n",
       "      <td>387.0</td>\n",
       "      <td>3.0982</td>\n",
       "      <td>111300.0</td>\n",
       "      <td>1</td>\n",
       "      <td>0</td>\n",
       "      <td>0</td>\n",
       "      <td>0</td>\n",
       "      <td>0</td>\n",
       "    </tr>\n",
       "  </tbody>\n",
       "</table>\n",
       "</div>"
      ],
      "text/plain": [
       "       longitude  latitude  housing_median_age  total_rooms  total_bedrooms  \\\n",
       "17801    -121.79     37.38                22.0       3650.0           527.0   \n",
       "10303    -117.79     33.88                17.0       8562.0          1351.0   \n",
       "5956     -117.87     34.13                32.0       1741.0           373.0   \n",
       "1377     -122.09     38.02                37.0       1742.0           339.0   \n",
       "15429    -117.24     33.21                18.0       1846.0           419.0   \n",
       "\n",
       "       population  households  median_income  median_house_value  \\\n",
       "17801      1637.0       520.0         5.3774            325600.0   \n",
       "10303      3822.0      1316.0         6.0829            252600.0   \n",
       "5956        872.0       333.0         3.4219            194500.0   \n",
       "1377       1128.0       345.0         3.8824            113700.0   \n",
       "15429      1581.0       387.0         3.0982            111300.0   \n",
       "\n",
       "       ocean_proximity_<1H OCEAN  ocean_proximity_INLAND  \\\n",
       "17801                          1                       0   \n",
       "10303                          1                       0   \n",
       "5956                           1                       0   \n",
       "1377                           0                       0   \n",
       "15429                          1                       0   \n",
       "\n",
       "       ocean_proximity_ISLAND  ocean_proximity_NEAR BAY  \\\n",
       "17801                       0                         0   \n",
       "10303                       0                         0   \n",
       "5956                        0                         0   \n",
       "1377                        0                         1   \n",
       "15429                       0                         0   \n",
       "\n",
       "       ocean_proximity_NEAR OCEAN  \n",
       "17801                           0  \n",
       "10303                           0  \n",
       "5956                            0  \n",
       "1377                            0  \n",
       "15429                           0  "
      ]
     },
     "execution_count": 8,
     "metadata": {},
     "output_type": "execute_result"
    }
   ],
   "source": [
    "housing_data.sample(5)"
   ]
  },
  {
   "cell_type": "code",
   "execution_count": 9,
   "id": "358c5c74",
   "metadata": {},
   "outputs": [
    {
     "data": {
      "text/plain": [
       "173800.0"
      ]
     },
     "execution_count": 9,
     "metadata": {},
     "output_type": "execute_result"
    }
   ],
   "source": [
    "median = housing_data['median_house_value'].median()\n",
    "median"
   ]
  },
  {
   "cell_type": "code",
   "execution_count": 11,
   "id": "5920d849",
   "metadata": {},
   "outputs": [],
   "source": [
    "housing_data['above_median'] = (housing_data['median_house_value'] - median) > 0"
   ]
  },
  {
   "cell_type": "code",
   "execution_count": 12,
   "id": "f36d7080",
   "metadata": {},
   "outputs": [
    {
     "data": {
      "text/html": [
       "<div>\n",
       "<style scoped>\n",
       "    .dataframe tbody tr th:only-of-type {\n",
       "        vertical-align: middle;\n",
       "    }\n",
       "\n",
       "    .dataframe tbody tr th {\n",
       "        vertical-align: top;\n",
       "    }\n",
       "\n",
       "    .dataframe thead th {\n",
       "        text-align: right;\n",
       "    }\n",
       "</style>\n",
       "<table border=\"1\" class=\"dataframe\">\n",
       "  <thead>\n",
       "    <tr style=\"text-align: right;\">\n",
       "      <th></th>\n",
       "      <th>longitude</th>\n",
       "      <th>latitude</th>\n",
       "      <th>housing_median_age</th>\n",
       "      <th>total_rooms</th>\n",
       "      <th>total_bedrooms</th>\n",
       "      <th>population</th>\n",
       "      <th>households</th>\n",
       "      <th>median_income</th>\n",
       "      <th>median_house_value</th>\n",
       "      <th>ocean_proximity_&lt;1H OCEAN</th>\n",
       "      <th>ocean_proximity_INLAND</th>\n",
       "      <th>ocean_proximity_ISLAND</th>\n",
       "      <th>ocean_proximity_NEAR BAY</th>\n",
       "      <th>ocean_proximity_NEAR OCEAN</th>\n",
       "      <th>above_median</th>\n",
       "    </tr>\n",
       "  </thead>\n",
       "  <tbody>\n",
       "    <tr>\n",
       "      <th>8365</th>\n",
       "      <td>-118.35</td>\n",
       "      <td>33.97</td>\n",
       "      <td>26.0</td>\n",
       "      <td>1725.0</td>\n",
       "      <td>431.0</td>\n",
       "      <td>1130.0</td>\n",
       "      <td>404.0</td>\n",
       "      <td>3.2708</td>\n",
       "      <td>128100.0</td>\n",
       "      <td>1</td>\n",
       "      <td>0</td>\n",
       "      <td>0</td>\n",
       "      <td>0</td>\n",
       "      <td>0</td>\n",
       "      <td>False</td>\n",
       "    </tr>\n",
       "    <tr>\n",
       "      <th>18581</th>\n",
       "      <td>-121.77</td>\n",
       "      <td>36.92</td>\n",
       "      <td>9.0</td>\n",
       "      <td>4934.0</td>\n",
       "      <td>1112.0</td>\n",
       "      <td>3198.0</td>\n",
       "      <td>977.0</td>\n",
       "      <td>3.5000</td>\n",
       "      <td>194800.0</td>\n",
       "      <td>1</td>\n",
       "      <td>0</td>\n",
       "      <td>0</td>\n",
       "      <td>0</td>\n",
       "      <td>0</td>\n",
       "      <td>True</td>\n",
       "    </tr>\n",
       "    <tr>\n",
       "      <th>11960</th>\n",
       "      <td>-117.43</td>\n",
       "      <td>33.91</td>\n",
       "      <td>15.0</td>\n",
       "      <td>14281.0</td>\n",
       "      <td>2511.0</td>\n",
       "      <td>7540.0</td>\n",
       "      <td>2245.0</td>\n",
       "      <td>4.3222</td>\n",
       "      <td>138000.0</td>\n",
       "      <td>0</td>\n",
       "      <td>1</td>\n",
       "      <td>0</td>\n",
       "      <td>0</td>\n",
       "      <td>0</td>\n",
       "      <td>False</td>\n",
       "    </tr>\n",
       "    <tr>\n",
       "      <th>13380</th>\n",
       "      <td>-117.61</td>\n",
       "      <td>34.13</td>\n",
       "      <td>21.0</td>\n",
       "      <td>8416.0</td>\n",
       "      <td>1386.0</td>\n",
       "      <td>4308.0</td>\n",
       "      <td>1341.0</td>\n",
       "      <td>4.4611</td>\n",
       "      <td>164600.0</td>\n",
       "      <td>0</td>\n",
       "      <td>1</td>\n",
       "      <td>0</td>\n",
       "      <td>0</td>\n",
       "      <td>0</td>\n",
       "      <td>False</td>\n",
       "    </tr>\n",
       "    <tr>\n",
       "      <th>6282</th>\n",
       "      <td>-117.92</td>\n",
       "      <td>34.03</td>\n",
       "      <td>35.0</td>\n",
       "      <td>1469.0</td>\n",
       "      <td>306.0</td>\n",
       "      <td>1285.0</td>\n",
       "      <td>308.0</td>\n",
       "      <td>3.9219</td>\n",
       "      <td>159500.0</td>\n",
       "      <td>1</td>\n",
       "      <td>0</td>\n",
       "      <td>0</td>\n",
       "      <td>0</td>\n",
       "      <td>0</td>\n",
       "      <td>False</td>\n",
       "    </tr>\n",
       "  </tbody>\n",
       "</table>\n",
       "</div>"
      ],
      "text/plain": [
       "       longitude  latitude  housing_median_age  total_rooms  total_bedrooms  \\\n",
       "8365     -118.35     33.97                26.0       1725.0           431.0   \n",
       "18581    -121.77     36.92                 9.0       4934.0          1112.0   \n",
       "11960    -117.43     33.91                15.0      14281.0          2511.0   \n",
       "13380    -117.61     34.13                21.0       8416.0          1386.0   \n",
       "6282     -117.92     34.03                35.0       1469.0           306.0   \n",
       "\n",
       "       population  households  median_income  median_house_value  \\\n",
       "8365       1130.0       404.0         3.2708            128100.0   \n",
       "18581      3198.0       977.0         3.5000            194800.0   \n",
       "11960      7540.0      2245.0         4.3222            138000.0   \n",
       "13380      4308.0      1341.0         4.4611            164600.0   \n",
       "6282       1285.0       308.0         3.9219            159500.0   \n",
       "\n",
       "       ocean_proximity_<1H OCEAN  ocean_proximity_INLAND  \\\n",
       "8365                           1                       0   \n",
       "18581                          1                       0   \n",
       "11960                          0                       1   \n",
       "13380                          0                       1   \n",
       "6282                           1                       0   \n",
       "\n",
       "       ocean_proximity_ISLAND  ocean_proximity_NEAR BAY  \\\n",
       "8365                        0                         0   \n",
       "18581                       0                         0   \n",
       "11960                       0                         0   \n",
       "13380                       0                         0   \n",
       "6282                        0                         0   \n",
       "\n",
       "       ocean_proximity_NEAR OCEAN  above_median  \n",
       "8365                            0         False  \n",
       "18581                           0          True  \n",
       "11960                           0         False  \n",
       "13380                           0         False  \n",
       "6282                            0         False  "
      ]
     },
     "execution_count": 12,
     "metadata": {},
     "output_type": "execute_result"
    }
   ],
   "source": [
    "housing_data.sample(5)"
   ]
  },
  {
   "cell_type": "code",
   "execution_count": 13,
   "id": "b5551380",
   "metadata": {},
   "outputs": [],
   "source": [
    "X = housing_data.drop(['median_house_value', 'above_median'], axis=1)\n",
    "Y = housing_data['above_median']"
   ]
  },
  {
   "cell_type": "code",
   "execution_count": 16,
   "id": "ec86c7a8",
   "metadata": {},
   "outputs": [],
   "source": [
    "from sklearn.model_selection import train_test_split\n",
    "x_train, x_test, y_train, y_test = train_test_split(X, Y, test_size=0.2)"
   ]
  },
  {
   "cell_type": "code",
   "execution_count": 17,
   "id": "03f6c8da",
   "metadata": {},
   "outputs": [
    {
     "data": {
      "text/plain": [
       "((15580, 13), (3895, 13))"
      ]
     },
     "execution_count": 17,
     "metadata": {},
     "output_type": "execute_result"
    }
   ],
   "source": [
    "x_train.shape, x_test.shape"
   ]
  },
  {
   "cell_type": "code",
   "execution_count": 18,
   "id": "f281c768",
   "metadata": {},
   "outputs": [
    {
     "data": {
      "text/plain": [
       "((15580,), (3895,))"
      ]
     },
     "execution_count": 18,
     "metadata": {},
     "output_type": "execute_result"
    }
   ],
   "source": [
    "y_train.shape, y_test.shape"
   ]
  },
  {
   "cell_type": "code",
   "execution_count": 19,
   "id": "77fce5c2",
   "metadata": {},
   "outputs": [],
   "source": [
    "from sklearn.linear_model import LogisticRegression\n",
    "logistic_model = LogisticRegression(solver='liblinear').fit(x_train, y_train)"
   ]
  },
  {
   "cell_type": "code",
   "execution_count": 20,
   "id": "d16f76fe",
   "metadata": {},
   "outputs": [
    {
     "name": "stdout",
     "output_type": "stream",
     "text": [
      "Train_scroe:  0.8162387676508344\n"
     ]
    }
   ],
   "source": [
    "print('Train_scroe: ', logistic_model.score(x_train, y_train))"
   ]
  },
  {
   "cell_type": "code",
   "execution_count": 21,
   "id": "180683fe",
   "metadata": {},
   "outputs": [
    {
     "data": {
      "text/plain": [
       "array([[ 6.40418025e-02,  6.34646469e-02,  2.50405548e-02,\n",
       "        -3.26416463e-04,  2.28837909e-03, -1.21903033e-03,\n",
       "         3.33813540e-03,  1.26245292e+00,  6.84432624e-01,\n",
       "        -1.77088862e+00,  1.25377066e-02,  4.37207482e-01,\n",
       "         5.77491847e-01]])"
      ]
     },
     "execution_count": 21,
     "metadata": {},
     "output_type": "execute_result"
    }
   ],
   "source": [
    "logistic_model.coef_"
   ]
  },
  {
   "cell_type": "code",
   "execution_count": 22,
   "id": "5efcf6ec",
   "metadata": {},
   "outputs": [],
   "source": [
    "y_pred = logistic_model.predict(x_test)"
   ]
  },
  {
   "cell_type": "code",
   "execution_count": 23,
   "id": "6c30912b",
   "metadata": {},
   "outputs": [
    {
     "data": {
      "text/html": [
       "<div>\n",
       "<style scoped>\n",
       "    .dataframe tbody tr th:only-of-type {\n",
       "        vertical-align: middle;\n",
       "    }\n",
       "\n",
       "    .dataframe tbody tr th {\n",
       "        vertical-align: top;\n",
       "    }\n",
       "\n",
       "    .dataframe thead th {\n",
       "        text-align: right;\n",
       "    }\n",
       "</style>\n",
       "<table border=\"1\" class=\"dataframe\">\n",
       "  <thead>\n",
       "    <tr style=\"text-align: right;\">\n",
       "      <th></th>\n",
       "      <th>predicted</th>\n",
       "      <th>actual</th>\n",
       "    </tr>\n",
       "  </thead>\n",
       "  <tbody>\n",
       "    <tr>\n",
       "      <th>14720</th>\n",
       "      <td>True</td>\n",
       "      <td>True</td>\n",
       "    </tr>\n",
       "    <tr>\n",
       "      <th>14757</th>\n",
       "      <td>False</td>\n",
       "      <td>False</td>\n",
       "    </tr>\n",
       "    <tr>\n",
       "      <th>8428</th>\n",
       "      <td>True</td>\n",
       "      <td>True</td>\n",
       "    </tr>\n",
       "    <tr>\n",
       "      <th>16138</th>\n",
       "      <td>True</td>\n",
       "      <td>True</td>\n",
       "    </tr>\n",
       "    <tr>\n",
       "      <th>16169</th>\n",
       "      <td>True</td>\n",
       "      <td>True</td>\n",
       "    </tr>\n",
       "    <tr>\n",
       "      <th>12119</th>\n",
       "      <td>False</td>\n",
       "      <td>True</td>\n",
       "    </tr>\n",
       "    <tr>\n",
       "      <th>1225</th>\n",
       "      <td>False</td>\n",
       "      <td>False</td>\n",
       "    </tr>\n",
       "    <tr>\n",
       "      <th>8967</th>\n",
       "      <td>True</td>\n",
       "      <td>True</td>\n",
       "    </tr>\n",
       "    <tr>\n",
       "      <th>15506</th>\n",
       "      <td>True</td>\n",
       "      <td>False</td>\n",
       "    </tr>\n",
       "    <tr>\n",
       "      <th>9048</th>\n",
       "      <td>False</td>\n",
       "      <td>False</td>\n",
       "    </tr>\n",
       "  </tbody>\n",
       "</table>\n",
       "</div>"
      ],
      "text/plain": [
       "       predicted  actual\n",
       "14720       True    True\n",
       "14757      False   False\n",
       "8428        True    True\n",
       "16138       True    True\n",
       "16169       True    True\n",
       "12119      False    True\n",
       "1225       False   False\n",
       "8967        True    True\n",
       "15506       True   False\n",
       "9048       False   False"
      ]
     },
     "execution_count": 23,
     "metadata": {},
     "output_type": "execute_result"
    }
   ],
   "source": [
    "df_pred_actual = pd.DataFrame({'predicted': y_pred, 'actual': y_test})\n",
    "df_pred_actual.head(10)"
   ]
  },
  {
   "cell_type": "code",
   "execution_count": 24,
   "id": "c06b5945",
   "metadata": {},
   "outputs": [
    {
     "name": "stdout",
     "output_type": "stream",
     "text": [
      "Testing_score 0.8359435173299101\n"
     ]
    }
   ],
   "source": [
    "from sklearn.metrics import accuracy_score\n",
    "print('Testing_score', accuracy_score(y_test, y_pred))"
   ]
  },
  {
   "cell_type": "code",
   "execution_count": null,
   "id": "5bc67c4f",
   "metadata": {},
   "outputs": [],
   "source": []
  }
 ],
 "metadata": {
  "kernelspec": {
   "display_name": "Python 3 (ipykernel)",
   "language": "python",
   "name": "python3"
  },
  "language_info": {
   "codemirror_mode": {
    "name": "ipython",
    "version": 3
   },
   "file_extension": ".py",
   "mimetype": "text/x-python",
   "name": "python",
   "nbconvert_exporter": "python",
   "pygments_lexer": "ipython3",
   "version": "3.8.10"
  }
 },
 "nbformat": 4,
 "nbformat_minor": 5
}
